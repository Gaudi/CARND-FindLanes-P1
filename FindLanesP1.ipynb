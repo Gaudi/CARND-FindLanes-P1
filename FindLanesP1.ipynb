{
 "cells": [
  {
   "cell_type": "code",
   "execution_count": 5,
   "metadata": {},
   "outputs": [],
   "source": [
    "#importing some useful packages\n",
    "import cv2\n",
    "import os\n",
    "import numpy as np\n",
    "import matplotlib.pyplot as plt\n",
    "import matplotlib.image as mpimg\n",
    "import find_lane_lib as findlane\n",
    "from moviepy.editor import VideoFileClip\n",
    "from IPython.display import HTML\n",
    "%matplotlib inline"
   ]
  },
  {
   "cell_type": "code",
   "execution_count": 6,
   "metadata": {
    "scrolled": false
   },
   "outputs": [
    {
     "name": "stdout",
     "output_type": "stream",
     "text": [
      "Processed all files in folder ' test_images\\ ' has been processed and placed in ' test_images_out\\ '\n"
     ]
    }
   ],
   "source": [
    "#Process the images in test_images and placed them in test_images_out\n",
    "input_path = 'test_images\\\\'\n",
    "output_path = 'test_images_out\\\\'\n",
    "findlane.process_directory(input_path, output_path)"
   ]
  },
  {
   "cell_type": "code",
   "execution_count": null,
   "metadata": {},
   "outputs": [],
   "source": []
  },
  {
   "cell_type": "code",
   "execution_count": 7,
   "metadata": {
    "scrolled": true
   },
   "outputs": [
    {
     "name": "stdout",
     "output_type": "stream",
     "text": [
      "filename  test_videos\\challenge.mp4\n",
      "filename  test_videos\\solidWhiteRight.mp4\n",
      "filename  test_videos\\solidYellowLeft.mp4\n",
      "Processed all files in folder ' test_videos\\ ' has been processed and placed in ' test_videos_out\\ '\n"
     ]
    }
   ],
   "source": [
    "#Process the images in test_videos and placed them in test_videos_out\n",
    "input_path = 'test_videos\\\\'\n",
    "output_path = 'test_videos_out\\\\'\n",
    "\n",
    "findlane.process_directory(input_path, output_path)"
   ]
  },
  {
   "cell_type": "code",
   "execution_count": 8,
   "metadata": {},
   "outputs": [
    {
     "name": "stdout",
     "output_type": "stream",
     "text": [
      "Moviepy - Building video test_videos_out/solidYellowLetfClip.mp4.\n",
      "Moviepy - Writing video test_videos_out/solidYellowLetfClip.mp4\n",
      "\n"
     ]
    },
    {
     "name": "stderr",
     "output_type": "stream",
     "text": [
      "                                                                                                                                                     \r"
     ]
    },
    {
     "name": "stdout",
     "output_type": "stream",
     "text": [
      "Moviepy - Done !\n",
      "Moviepy - video ready test_videos_out/solidYellowLetfClip.mp4\n",
      "Wall time: 2.44 s\n"
     ]
    },
    {
     "data": {
      "text/html": [
       "\n",
       "<video width=\"960\" height=\"540\" controls>\n",
       "  <source src=\"test_videos_out/solidYellowLetfClip.mp4\">\n",
       "</video>"
      ],
      "text/plain": [
       "<IPython.core.display.HTML object>"
      ]
     },
     "execution_count": 8,
     "metadata": {},
     "output_type": "execute_result"
    }
   ],
   "source": [
    "#Create a short clip to show in the notebook\n",
    "yellow_input = 'test_videos/solidYellowLeft.mp4'\n",
    "yellow_output = 'test_videos_out/solidYellowLetfClip.mp4'\n",
    "clip1 = VideoFileClip(yellow_input).subclip(5, 10)\n",
    "yellow_clip = clip1.fl_image(findlane.process_image) #NOTE: this function expects color images!!\n",
    "%time yellow_clip.write_videofile(yellow_output, audio=False) \n",
    "\n",
    "HTML(\"\"\"\n",
    "<video width=\"960\" height=\"540\" controls>\n",
    "  <source src=\"{0}\">\n",
    "</video>\"\"\".format(yellow_output))"
   ]
  }
 ],
 "metadata": {
  "kernelspec": {
   "display_name": "Python 3",
   "language": "python",
   "name": "python3"
  },
  "language_info": {
   "codemirror_mode": {
    "name": "ipython",
    "version": 3
   },
   "file_extension": ".py",
   "mimetype": "text/x-python",
   "name": "python",
   "nbconvert_exporter": "python",
   "pygments_lexer": "ipython3",
   "version": "3.5.2"
  },
  "widgets": {
   "state": {},
   "version": "1.1.2"
  }
 },
 "nbformat": 4,
 "nbformat_minor": 2
}
